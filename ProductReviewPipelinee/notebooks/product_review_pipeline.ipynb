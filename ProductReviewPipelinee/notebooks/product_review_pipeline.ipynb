{
 "cells": [
  {
   "cell_type": "markdown",
   "metadata": {},
   "source": [
    "# 🛍️ Product Review Analysis Pipeline (Notebook)\n",
    "An end-to-end pipeline that cleans product reviews, performs sentiment analysis, extracts features, and stores results using SQL."
   ]
  },
  {
   "cell_type": "code",
   "execution_count": null,
   "metadata": {},
   "outputs": [],
   "source": [
    "import pandas as pd\n",
    "import re\n",
    "df = pd.read_csv('../data/sample_reviews.csv')\n",
    "df.drop_duplicates(subset='review_text', inplace=True)\n",
    "def clean_text(text):\n",
    "    if pd.isna(text): return ''\n",
    "    text = text.lower()\n",
    "    text = re.sub(r'http\\S+', '', text)\n",
    "    text = re.sub(r'[^a-zA-Z0-9\\s]', '', text)\n",
    "    return re.sub(r'\\s+', ' ', text).strip()\n",
    "df['cleaned_review'] = df['review_text'].apply(clean_text)\n",
    "df.head()"
   ]
  },
  {
   "cell_type": "code",
   "execution_count": null,
   "metadata": {},
   "outputs": [],
   "source": [
    "from textblob import TextBlob\n",
    "def get_sentiment(text):\n",
    "    polarity = TextBlob(text).sentiment.polarity\n",
    "    return 'positive' if polarity > 0 else 'negative' if polarity < 0 else 'neutral'\n",
    "df['sentiment'] = df['cleaned_review'].apply(get_sentiment)\n",
    "df[['review_text', 'sentiment']].head()"
   ]
  }
 ],
 "metadata": {},
 "nbformat": 4,
 "nbformat_minor": 2
}
